{
 "cells": [
  {
   "cell_type": "code",
   "execution_count": 2,
   "id": "0e4aa924",
   "metadata": {},
   "outputs": [],
   "source": [
    "import pandas as pd\n",
    "\n",
    "df = pd.read_csv('titanic.csv - titanic.csv.csv')"
   ]
  },
  {
   "cell_type": "code",
   "execution_count": 4,
   "id": "0424aa8b",
   "metadata": {},
   "outputs": [
    {
     "name": "stdout",
     "output_type": "stream",
     "text": [
      "Non-Survived: 549\n"
     ]
    }
   ],
   "source": [
    "#  How many people survived the disaster ?\n",
    "non_survived = len(df[df['Survived'] == 0])\n",
    "print(f\"Non-Survived: {non_survived}\")"
   ]
  },
  {
   "cell_type": "code",
   "execution_count": 7,
   "id": "93f49afc",
   "metadata": {},
   "outputs": [
    {
     "name": "stdout",
     "output_type": "stream",
     "text": [
      "Total passengers: 891\n",
      "Alive: 342\n"
     ]
    }
   ],
   "source": [
    "# . How many people died ?\n",
    "total_passengers = df['Survived'].count()  \n",
    "survived = df['Survived'].sum()  \n",
    "\n",
    "print(f\"Total passengers: {total_passengers}\")\n",
    "print(f\"Alive: {survived}\")  "
   ]
  },
  {
   "cell_type": "code",
   "execution_count": 15,
   "id": "584cdf79",
   "metadata": {},
   "outputs": [
    {
     "name": "stdout",
     "output_type": "stream",
     "text": [
      "Survival rate: 38.38383838383838%\n"
     ]
    }
   ],
   "source": [
    "#Calculate the survival rates as proportions (percentage)\n",
    "survival_rate = (survived / total_passengers) * 100 \n",
    "print(f\"Survival rate: {survival_rate}%\")"
   ]
  },
  {
   "cell_type": "code",
   "execution_count": 11,
   "id": "31a64d60",
   "metadata": {},
   "outputs": [
    {
     "name": "stdout",
     "output_type": "stream",
     "text": [
      "Males survived: 109\n",
      "Males died: 468\n"
     ]
    }
   ],
   "source": [
    "#  Males that survived vs males that passed away?\n",
    "males = df[df['Sex'] == 'male']\n",
    "males_survived = males['Survived'].sum()\n",
    "males_died = males['Survived'].count() - males_survived \n",
    "print(f\"Males survived: {males_survived}\")\n",
    "print(f\"Males died: {males_died}\")"
   ]
  },
  {
   "cell_type": "code",
   "execution_count": 13,
   "id": "1319a659",
   "metadata": {},
   "outputs": [
    {
     "name": "stdout",
     "output_type": "stream",
     "text": [
      "Females survived: 233\n",
      "Females died: 81\n"
     ]
    }
   ],
   "source": [
    "# Females that survived vs Females that passed away?\n",
    "females = df[df['Sex'] == 'female']\n",
    "females_survived = females['Survived'].sum()\n",
    "females_died = females['Survived'].count() - females_survived \n",
    "print(f\"Females survived: {females_survived}\")\n",
    "print(f\"Females died: {females_died}\")"
   ]
  },
  {
   "cell_type": "code",
   "execution_count": 14,
   "id": "f4f0b4ac",
   "metadata": {},
   "outputs": [
    {
     "name": "stdout",
     "output_type": "stream",
     "text": [
      "F. Children (age < 18) that survived: 61, Children that died: 52\n",
      "   Adults (age >= 18) that survived: 229, Adults that died: 372\n"
     ]
    }
   ],
   "source": [
    "# . Does age play a role? Since it’s probable that children were saved first\n",
    "children_survived = df[(df['Age'] < 18) & (df['Survived'] == 1)].shape[0]\n",
    "children_died = df[(df['Age'] < 18) & (df['Survived'] == 0)].shape[0]\n",
    "adults_survived = df[(df['Age'] >= 18) & (df['Survived'] == 1)].shape[0]\n",
    "adults_died = df[(df['Age'] >= 18) & (df['Survived'] == 0)].shape[0]\n",
    "print(f\"F. Children (age < 18) that survived: {children_survived}, Children that died: {children_died}\")\n",
    "print(f\"   Adults (age >= 18) that survived: {adults_survived}, Adults that died: {adults_died}\")"
   ]
  }
 ],
 "metadata": {
  "kernelspec": {
   "display_name": "Python 3 (ipykernel)",
   "language": "python",
   "name": "python3"
  },
  "language_info": {
   "codemirror_mode": {
    "name": "ipython",
    "version": 3
   },
   "file_extension": ".py",
   "mimetype": "text/x-python",
   "name": "python",
   "nbconvert_exporter": "python",
   "pygments_lexer": "ipython3",
   "version": "3.11.5"
  }
 },
 "nbformat": 4,
 "nbformat_minor": 5
}
